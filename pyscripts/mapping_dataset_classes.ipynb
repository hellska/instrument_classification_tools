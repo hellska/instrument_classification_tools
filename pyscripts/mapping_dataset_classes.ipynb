{
 "cells": [
  {
   "cell_type": "code",
   "execution_count": 9,
   "metadata": {
    "collapsed": true
   },
   "outputs": [],
   "source": [
    "import os\n",
    "import shutil"
   ]
  },
  {
   "cell_type": "code",
   "execution_count": 4,
   "metadata": {
    "collapsed": true
   },
   "outputs": [],
   "source": [
    "datasetname=\"soundfonts_n3classes\"\n",
    "datasetsdir=\"/Volumes/datadisk/hellska/thesis/datasets/\"\n",
    "datasetdir=datasetsdir+datasetname"
   ]
  },
  {
   "cell_type": "code",
   "execution_count": 5,
   "metadata": {
    "collapsed": true
   },
   "outputs": [],
   "source": [
    "classes=['plucked_string', 'bowed_string', 'wind']"
   ]
  },
  {
   "cell_type": "code",
   "execution_count": 6,
   "metadata": {
    "collapsed": false
   },
   "outputs": [],
   "source": [
    "items=os.listdir(datasetdir)"
   ]
  },
  {
   "cell_type": "code",
   "execution_count": 7,
   "metadata": {
    "collapsed": false,
    "scrolled": false
   },
   "outputs": [
    {
     "data": {
      "text/plain": [
       "(['.DS_Store',\n",
       "  'alto_clarinet',\n",
       "  'alto_sax',\n",
       "  'baritone_sax',\n",
       "  'bass_clarinet',\n",
       "  'bassoon',\n",
       "  'cello',\n",
       "  'doublebass',\n",
       "  'english_horn',\n",
       "  'flute',\n",
       "  'french_horn',\n",
       "  'harp',\n",
       "  'oboe',\n",
       "  'piccolo',\n",
       "  'soprano_clarinet',\n",
       "  'soprano_sax',\n",
       "  'tenor_sax',\n",
       "  'trombone',\n",
       "  'trumpet',\n",
       "  'tuba',\n",
       "  'viola',\n",
       "  'violin'],\n",
       " ['plucked_string', 'bowed_string', 'wind'])"
      ]
     },
     "execution_count": 7,
     "metadata": {},
     "output_type": "execute_result"
    }
   ],
   "source": [
    "items, classes"
   ]
  },
  {
   "cell_type": "code",
   "execution_count": 8,
   "metadata": {
    "collapsed": true
   },
   "outputs": [],
   "source": [
    "classmap={}"
   ]
  },
  {
   "cell_type": "code",
   "execution_count": 16,
   "metadata": {
    "collapsed": true
   },
   "outputs": [],
   "source": [
    "for i in classes:\n",
    "    classmap[i] = []"
   ]
  },
  {
   "cell_type": "code",
   "execution_count": 17,
   "metadata": {
    "collapsed": false
   },
   "outputs": [
    {
     "data": {
      "text/plain": [
       "{'bowed_string': [], 'plucked_string': [], 'wind': []}"
      ]
     },
     "execution_count": 17,
     "metadata": {},
     "output_type": "execute_result"
    }
   ],
   "source": [
    "classmap"
   ]
  },
  {
   "cell_type": "code",
   "execution_count": 1,
   "metadata": {
    "collapsed": false
   },
   "outputs": [],
   "source": [
    "mapdict = {'bowed_string': \n",
    " ['viola', 'violin', 'cello', 'doublebass', ], \n",
    " 'plucked_string':\n",
    " ['harp'], \n",
    " 'wind':\n",
    " ['tuba', 'trumpet', 'trombone', 'tenor_sax', 'soprano_sax', 'soprano_clarinet', 'piccolo', 'oboe', 'french_horn', 'flute', 'english_horn', 'bassoon', 'bass_clarinet','baritone_sax',\n",
    "'alto_sax', 'alto_clarinet']\n",
    "}"
   ]
  },
  {
   "cell_type": "markdown",
   "metadata": {},
   "source": [
    "## Run this to create a three classes dataset\n",
    "### Check the dataset* variables\n"
   ]
  },
  {
   "cell_type": "code",
   "execution_count": 16,
   "metadata": {
    "collapsed": false
   },
   "outputs": [
    {
     "name": "stdout",
     "output_type": "stream",
     "text": [
      "bowed_string\n",
      "wind\n",
      "plucked_string\n"
     ]
    }
   ],
   "source": [
    "mapdict = {'bowed_string': \n",
    " ['viola', 'violin', 'cello', 'doublebass', ], \n",
    " 'plucked_string':\n",
    " ['harp'], \n",
    " 'wind':\n",
    " ['tuba', 'trumpet', 'trombone', 'tenor_sax', 'soprano_sax', 'soprano_clarinet', 'piccolo', 'oboe', 'french_horn', 'flute', 'english_horn', 'bassoon', 'bass_clarinet','baritone_sax',\n",
    "'alto_sax', 'alto_clarinet']\n",
    "}\n",
    "\n",
    "datasetname=\"soundfonts_n3classes\"\n",
    "datasetsdir=\"/Volumes/datadisk/hellska/thesis/datasets/\"\n",
    "datasetdir=datasetsdir+datasetname\n",
    "\n",
    "for key in mapdict.keys():\n",
    "    print key\n",
    "    classdir = datasetdir+\"/\"+key\n",
    "    if os.path.isdir(classdir):\n",
    "        print \"Directory \"+classdir+\" already exixsts\"\n",
    "        shutil.rmtree(classdir)\n",
    "    os.mkdir(classdir)\n",
    "    for clas in mapdict[key]:\n",
    "        filedir = datasetdir+\"/\"+clas\n",
    "        files=os.listdir(filedir)\n",
    "        for file in files:\n",
    "            filepath=filedir+\"/\"+file\n",
    "            shutil.copy(filepath, classdir)"
   ]
  },
  {
   "cell_type": "code",
   "execution_count": null,
   "metadata": {
    "collapsed": true
   },
   "outputs": [],
   "source": [
    ""
   ]
  }
 ],
 "metadata": {
  "kernelspec": {
   "display_name": "Python 2",
   "language": "python",
   "name": "python2"
  },
  "language_info": {
   "codemirror_mode": {
    "name": "ipython",
    "version": 2.0
   },
   "file_extension": ".py",
   "mimetype": "text/x-python",
   "name": "python",
   "nbconvert_exporter": "python",
   "pygments_lexer": "ipython2",
   "version": "2.7.5"
  }
 },
 "nbformat": 4,
 "nbformat_minor": 0
}