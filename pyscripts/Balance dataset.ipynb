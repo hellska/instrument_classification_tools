{
 "cells": [
  {
   "cell_type": "code",
   "execution_count": 34,
   "metadata": {
    "collapsed": true
   },
   "outputs": [],
   "source": [
    "import os\n",
    "import glob\n",
    "import random\n",
    "import shutil"
   ]
  },
  {
   "cell_type": "code",
   "execution_count": 4,
   "metadata": {
    "collapsed": true
   },
   "outputs": [],
   "source": [
    "datasetdir='/Volumes/datadisk/hellska/thesis/datasets/Freesound_balanced/annotation'"
   ]
  },
  {
   "cell_type": "markdown",
   "metadata": {},
   "source": [
    "prepare the folder structure for the balanced dataset!"
   ]
  },
  {
   "cell_type": "code",
   "execution_count": 43,
   "metadata": {
    "collapsed": false
   },
   "outputs": [
    {
     "name": "stdout",
     "output_type": "stream",
     "text": [
      "Directory/Volumes/datadisk/hellska/thesis/datasets/Freesound_balanced/annotation_balancedalready exists - will be removed\n"
     ]
    }
   ],
   "source": [
    "topdir = os.path.dirname(datasetdir)\n",
    "datasetdirname = os.path.basename(datasetdir)\n",
    "balanceddir = os.path.join(topdir, datasetdirname+\"_balanced\")\n",
    "if os.path.isdir(balanceddir):\n",
    "    print \"Directory\"+balanceddir+\"already exists - will be removed\"\n",
    "    shutil.rmtree(balanceddir)\n",
    "os.mkdir(balanceddir)\n",
    "# copy the project file into the new folder\n",
    "prjfile = datasetdirname+\".project\"\n",
    "if os.path.isfile(os.path.join(datasetdir, prjfile)):\n",
    "    shutil.copy(prjori, os.path.join(balanceddir,datasetdirname+\"_balanced.project\"))\n",
    "else:\n",
    "    print \"File\"+prjfile+\"not found!\"\n"
   ]
  },
  {
   "cell_type": "markdown",
   "metadata": {},
   "source": [
    "create a dictionary with the complete dataset"
   ]
  },
  {
   "cell_type": "code",
   "execution_count": 44,
   "metadata": {
    "collapsed": false
   },
   "outputs": [],
   "source": [
    "dataset = {}\n",
    "for (dirname, dirnames, filenames) in os.walk(datasetdir):\n",
    "    if dirname!=datasetdir:\n",
    "        classe = os.path.basename(dirname)\n",
    "        out = glob.glob(os.path.join(dirname, \"*.sig\"))\n",
    "        classcount = len(out)\n",
    "        dataset[classe] = {}\n",
    "        dataset[classe]['size'] = classcount\n",
    "        dataset[classe]['files'] = out\n"
   ]
  },
  {
   "cell_type": "markdown",
   "metadata": {},
   "source": [
    "create dictionary with balanced dataset and copy the balanced dataset into the new folder structure"
   ]
  },
  {
   "cell_type": "code",
   "execution_count": 45,
   "metadata": {
    "collapsed": false
   },
   "outputs": [],
   "source": [
    "minsize = 40\n",
    "for key in dataset.keys():\n",
    "    if dataset[key]['size']<minsize:\n",
    "        print \"Exclude class because the number of elements is less than minimum elements\"\n",
    "        del dataset[key]\n",
    "    else:\n",
    "        allclass = dataset[key]['files']\n",
    "        random.shuffle(allclass)\n",
    "        balclass = allclass[:minsize]\n",
    "        dataset[key]['size'] = len(balclass)\n",
    "        dataset[key]['files'] = balclass\n",
    "        os.mkdir(os.path.join(balanceddir,key))\n",
    "        for sigfile in balclass:\n",
    "            shutil.copy(sigfile,os.path.join(balanceddir,key))\n",
    "        \n",
    "        "
   ]
  },
  {
   "cell_type": "markdown",
   "metadata": {},
   "source": []
  },
  {
   "cell_type": "code",
   "execution_count": null,
   "metadata": {
    "collapsed": true
   },
   "outputs": [],
   "source": []
  },
  {
   "cell_type": "code",
   "execution_count": null,
   "metadata": {
    "collapsed": false
   },
   "outputs": [],
   "source": [
    "\n"
   ]
  },
  {
   "cell_type": "code",
   "execution_count": null,
   "metadata": {
    "collapsed": true
   },
   "outputs": [],
   "source": []
  },
  {
   "cell_type": "code",
   "execution_count": null,
   "metadata": {
    "collapsed": true
   },
   "outputs": [],
   "source": []
  }
 ],
 "metadata": {
  "kernelspec": {
   "display_name": "Python 2",
   "language": "python",
   "name": "python2"
  },
  "language_info": {
   "codemirror_mode": {
    "name": "ipython",
    "version": 2
   },
   "file_extension": ".py",
   "mimetype": "text/x-python",
   "name": "python",
   "nbconvert_exporter": "python",
   "pygments_lexer": "ipython2",
   "version": "2.7.5"
  }
 },
 "nbformat": 4,
 "nbformat_minor": 0
}
